{
 "cells": [
  {
   "cell_type": "code",
   "execution_count": null,
   "id": "815f73ce",
   "metadata": {
    "vscode": {
     "languageId": "plaintext"
    }
   },
   "outputs": [],
   "source": [
    "import pandas as pd\n",
    "import matplotlib.pyplot as plt\n",
    "import seaborn as sns\n",
    "\n",
    "# Load cleaned data\n",
    "df = pd.read_csv('data/processed/cleaned_cars.csv')\n",
    "\n",
    "# Basic info\n",
    "print(df.info())\n",
    "print(df.describe())\n",
    "\n",
    "# Price distribution\n",
    "plt.figure(figsize=(12,6))\n",
    "sns.histplot(df['listed_price'], bins=50, kde=True)\n",
    "plt.title('Used Car Price Distribution')\n",
    "plt.xlabel('Price ($)')\n",
    "plt.savefig('visualizations/price_distribution.png')\n",
    "plt.show()\n",
    "\n",
    "# Top 10 makes by count\n",
    "plt.figure(figsize=(12,6))\n",
    "df['make'].value_counts().head(10).plot(kind='bar')\n",
    "plt.title('Top 10 Car Makes')\n",
    "plt.savefig('visualizations/top_makes.png')\n",
    "plt.show()\n",
    "\n",
    "# Price vs Mileage\n",
    "plt.figure(figsize=(12,8))\n",
    "sns.scatterplot(data=df, x='mileage', y='listed_price', hue='fuel_type', alpha=0.6)\n",
    "plt.title('Price vs Mileage')\n",
    "plt.savefig('visualizations/price_vs_mileage.png')\n",
    "plt.show()\n",
    "\n",
    "# Correlation matrix\n",
    "corr = df[['listed_price', 'year', 'mileage', 'vehicle_age', 'mileage_rate']].corr()\n",
    "plt.figure(figsize=(10,8))\n",
    "sns.heatmap(corr, annot=True, cmap='coolwarm')\n",
    "plt.title('Feature Correlation Matrix')\n",
    "plt.savefig('visualizations/correlation_matrix.png')\n",
    "plt.show()"
   ]
  }
 ],
 "metadata": {
  "language_info": {
   "name": "python"
  }
 },
 "nbformat": 4,
 "nbformat_minor": 5
}
